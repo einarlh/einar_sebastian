{
 "cells": [
  {
   "cell_type": "code",
   "execution_count": 6,
   "metadata": {},
   "outputs": [
    {
     "ename": "ModuleNotFoundError",
     "evalue": "No module named 'torch'",
     "output_type": "error",
     "traceback": [
      "\u001b[0;31m---------------------------------------------------------------------------\u001b[0m",
      "\u001b[0;31mModuleNotFoundError\u001b[0m                       Traceback (most recent call last)",
      "\u001b[0;32m<ipython-input-6-9ece634a69fa>\u001b[0m in \u001b[0;36m<module>\u001b[0;34m\u001b[0m\n\u001b[1;32m      1\u001b[0m \u001b[0;32mimport\u001b[0m \u001b[0mmatplotlib\u001b[0m\u001b[0;34m.\u001b[0m\u001b[0mpyplot\u001b[0m \u001b[0;32mas\u001b[0m \u001b[0mplt\u001b[0m\u001b[0;34m\u001b[0m\u001b[0;34m\u001b[0m\u001b[0m\n\u001b[1;32m      2\u001b[0m \u001b[0;32mimport\u001b[0m \u001b[0msys\u001b[0m\u001b[0;34m\u001b[0m\u001b[0;34m\u001b[0m\u001b[0m\n\u001b[0;32m----> 3\u001b[0;31m \u001b[0;32mimport\u001b[0m \u001b[0mtorch\u001b[0m\u001b[0;34m\u001b[0m\u001b[0;34m\u001b[0m\u001b[0m\n\u001b[0m\u001b[1;32m      4\u001b[0m \u001b[0;32mimport\u001b[0m \u001b[0mnumpy\u001b[0m \u001b[0;32mas\u001b[0m \u001b[0mnp\u001b[0m\u001b[0;34m\u001b[0m\u001b[0;34m\u001b[0m\u001b[0m\n\u001b[1;32m      5\u001b[0m \u001b[0;32mimport\u001b[0m \u001b[0mpathlib\u001b[0m\u001b[0;34m\u001b[0m\u001b[0;34m\u001b[0m\u001b[0m\n",
      "\u001b[0;31mModuleNotFoundError\u001b[0m: No module named 'torch'"
     ]
    }
   ],
   "source": [
    "import matplotlib.pyplot as plt\n",
    "import sys\n",
    "import torch\n",
    "import numpy as np\n",
    "import pathlib\n",
    "path = pathlib.Path()\n",
    "# Insert all modules a folder above\n",
    "sys.path.insert(0, str(path.absolute().parent))\n",
    "from ssd.config.defaults import cfg\n",
    "from ssd.modeling.box_head.prior_box import PriorBox\n",
    "from ssd.utils.box_utils import convert_locations_to_boxes\n",
    "\n",
    "\n"
   ]
  },
  {
   "cell_type": "code",
   "execution_count": null,
   "metadata": {},
   "outputs": [],
   "source": [
    "config_path = \"configs/train_waymo.yaml\"\n",
    "cfg.merge_from_file(config_path)\n",
    "prior_box = PriorBox(cfg)"
   ]
  },
  {
   "cell_type": "code",
   "execution_count": null,
   "metadata": {},
   "outputs": [],
   "source": [
    "def plot_bbox(box):\n",
    "    cx, cy, w, h = box\n",
    "    x1, y1 = cx + w/2, cy + h/2\n",
    "    print(y1)\n",
    "    x0, y0 = cx - w/2, cy - h/2\n",
    "    print(y0)\n",
    "    plt.plot(\n",
    "        [x0, x0, x1, x1, x0],\n",
    "        [y0, y1, y1, y0, y0]\n",
    "    )"
   ]
  },
  {
   "cell_type": "code",
   "execution_count": 11,
   "metadata": {},
   "outputs": [
    {
     "ename": "NameError",
     "evalue": "name 'prior_box' is not defined",
     "output_type": "error",
     "traceback": [
      "\u001b[0;31m---------------------------------------------------------------------------\u001b[0m",
      "\u001b[0;31mNameError\u001b[0m                                 Traceback (most recent call last)",
      "\u001b[0;32m<ipython-input-11-28b38d4cf529>\u001b[0m in \u001b[0;36m<module>\u001b[0;34m\u001b[0m\n\u001b[0;32m----> 1\u001b[0;31m \u001b[0mpriors\u001b[0m \u001b[0;34m=\u001b[0m \u001b[0mprior_box\u001b[0m\u001b[0;34m(\u001b[0m\u001b[0;34m)\u001b[0m\u001b[0;34m\u001b[0m\u001b[0;34m\u001b[0m\u001b[0m\n\u001b[0m\u001b[1;32m      2\u001b[0m \u001b[0mprint\u001b[0m\u001b[0;34m(\u001b[0m\u001b[0;34m\"Prior box shape:\"\u001b[0m\u001b[0;34m,\u001b[0m \u001b[0mpriors\u001b[0m\u001b[0;34m.\u001b[0m\u001b[0mshape\u001b[0m\u001b[0;34m)\u001b[0m\u001b[0;34m\u001b[0m\u001b[0;34m\u001b[0m\u001b[0m\n\u001b[1;32m      3\u001b[0m \u001b[0mprint\u001b[0m\u001b[0;34m(\u001b[0m\u001b[0;34m\"First prior example:\"\u001b[0m\u001b[0;34m,\u001b[0m \u001b[0mpriors\u001b[0m\u001b[0;34m[\u001b[0m\u001b[0;36m5\u001b[0m\u001b[0;34m]\u001b[0m\u001b[0;34m)\u001b[0m\u001b[0;34m\u001b[0m\u001b[0;34m\u001b[0m\u001b[0m\n\u001b[1;32m      4\u001b[0m \u001b[0mlocations\u001b[0m \u001b[0;34m=\u001b[0m \u001b[0mtorch\u001b[0m\u001b[0;34m.\u001b[0m\u001b[0mzeros_like\u001b[0m\u001b[0;34m(\u001b[0m\u001b[0mpriors\u001b[0m\u001b[0;34m)\u001b[0m\u001b[0;34m[\u001b[0m\u001b[0;32mNone\u001b[0m\u001b[0;34m]\u001b[0m\u001b[0;34m\u001b[0m\u001b[0;34m\u001b[0m\u001b[0m\n\u001b[1;32m      5\u001b[0m \u001b[0mpriors_as_location\u001b[0m \u001b[0;34m=\u001b[0m \u001b[0mconvert_locations_to_boxes\u001b[0m\u001b[0;34m(\u001b[0m\u001b[0mlocations\u001b[0m\u001b[0;34m,\u001b[0m \u001b[0mpriors\u001b[0m\u001b[0;34m,\u001b[0m\u001b[0mcfg\u001b[0m\u001b[0;34m.\u001b[0m\u001b[0mMODEL\u001b[0m\u001b[0;34m.\u001b[0m\u001b[0mCENTER_VARIANCE\u001b[0m\u001b[0;34m,\u001b[0m \u001b[0mcfg\u001b[0m\u001b[0;34m.\u001b[0m\u001b[0mMODEL\u001b[0m\u001b[0;34m.\u001b[0m\u001b[0mSIZE_VARIANCE\u001b[0m\u001b[0;34m)\u001b[0m\u001b[0;34m[\u001b[0m\u001b[0;36m0\u001b[0m\u001b[0;34m]\u001b[0m\u001b[0;34m\u001b[0m\u001b[0;34m\u001b[0m\u001b[0m\n",
      "\u001b[0;31mNameError\u001b[0m: name 'prior_box' is not defined"
     ]
    }
   ],
   "source": [
    "priors = prior_box()\n",
    "print(\"Prior box shape:\", priors.shape)\n",
    "print(\"First prior example:\", priors[5])\n",
    "locations = torch.zeros_like(priors)[None]\n",
    "priors_as_location = convert_locations_to_boxes(locations, priors,cfg.MODEL.CENTER_VARIANCE, cfg.MODEL.SIZE_VARIANCE)[0]\n",
    "\n",
    "aspect_ratio_indices = [0, 1, 2, 3]\n",
    "plt.ylim([-100, 720 + 100])\n",
    "plt.xlim([-100, 540 + 100])\n",
    "ax = plt.gca()\n",
    "\n",
    "def get_num_boxes_in_fmap(idx):\n",
    "    boxes_per_location = cfg.MODEL.PRIORS.BOXES_PER_LOCATION[idx]\n",
    "    feature_map_size = cfg.MODEL.PRIORS.FEATURE_MAPS[idx]\n",
    "    return int(boxes_per_location * np.prod(feature_map_size))\n",
    "\n",
    "layer_to_visualize = 5\n",
    "offset = sum([get_num_boxes_in_fmap(prev_layer) for prev_layer in range(layer_to_visualize)])\n",
    "boxees_per_location = cfg.MODEL.PRIORS.BOXES_PER_LOCATION[layer_to_visualize]\n",
    "indices_to_visualize = []\n",
    "colors = []\n",
    "available_colors = [\"r\", \"g\", \"b\", \"y\", \"m\", \"b\", \"w\"]\n",
    "for idx in range(offset, offset + get_num_boxes_in_fmap(layer_to_visualize)):\n",
    "    for aspect_ratio_idx in aspect_ratio_indices:\n",
    "        if idx % boxees_per_location == aspect_ratio_idx:\n",
    "            indices_to_visualize.append(idx)\n",
    "            colors.append(available_colors[aspect_ratio_idx])\n",
    "\n",
    "ax.add_artist(plt.Rectangle([0,0], 720, 540, fill = False))\n",
    "for i, idx in enumerate(indices_to_visualize):\n",
    "    prior = priors_as_location[idx]\n",
    "    color = colors[i]\n",
    "    plot_bbox(ax, prior, color)\n",
    "\n",
    "print(prior)"
   ]
  },
  {
   "cell_type": "code",
   "execution_count": null,
   "metadata": {},
   "outputs": [],
   "source": []
  }
 ],
 "metadata": {
  "kernelspec": {
   "display_name": "Python 3",
   "language": "python",
   "name": "python3"
  },
  "language_info": {
   "codemirror_mode": {
    "name": "ipython",
    "version": 3
   },
   "file_extension": ".py",
   "mimetype": "text/x-python",
   "name": "python",
   "nbconvert_exporter": "python",
   "pygments_lexer": "ipython3",
   "version": "3.7.4-final"
  }
 },
 "nbformat": 4,
 "nbformat_minor": 4
}